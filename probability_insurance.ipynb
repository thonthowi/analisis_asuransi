{
 "cells": [
  {
   "cell_type": "code",
   "execution_count": 66,
   "metadata": {},
   "outputs": [],
   "source": [
    "import pandas as pd\n",
    "import matplotlib.pyplot as plt\n",
    "import seaborn as sns\n",
    "import numpy as np\n",
    "from statistics import variance\n",
    "from scipy.stats import norm\n",
    "from sklearn.preprocessing import StandardScaler\n",
    "from sklearn.experimental import enable_iterative_imputer\n",
    "from sklearn.impute import IterativeImputer\n",
    "from scipy import stats\n",
    "import warnings\n",
    "warnings.filterwarnings('ignore')\n",
    "%matplotlib inline"
   ]
  },
  {
   "cell_type": "code",
   "execution_count": 67,
   "metadata": {},
   "outputs": [
    {
     "data": {
      "text/html": [
       "<div>\n",
       "<style scoped>\n",
       "    .dataframe tbody tr th:only-of-type {\n",
       "        vertical-align: middle;\n",
       "    }\n",
       "\n",
       "    .dataframe tbody tr th {\n",
       "        vertical-align: top;\n",
       "    }\n",
       "\n",
       "    .dataframe thead th {\n",
       "        text-align: right;\n",
       "    }\n",
       "</style>\n",
       "<table border=\"1\" class=\"dataframe\">\n",
       "  <thead>\n",
       "    <tr style=\"text-align: right;\">\n",
       "      <th></th>\n",
       "      <th>age</th>\n",
       "      <th>sex</th>\n",
       "      <th>bmi</th>\n",
       "      <th>children</th>\n",
       "      <th>smoker</th>\n",
       "      <th>region</th>\n",
       "      <th>charges</th>\n",
       "    </tr>\n",
       "  </thead>\n",
       "  <tbody>\n",
       "    <tr>\n",
       "      <th>0</th>\n",
       "      <td>19</td>\n",
       "      <td>female</td>\n",
       "      <td>27.900</td>\n",
       "      <td>0</td>\n",
       "      <td>yes</td>\n",
       "      <td>southwest</td>\n",
       "      <td>16884.92400</td>\n",
       "    </tr>\n",
       "    <tr>\n",
       "      <th>1</th>\n",
       "      <td>18</td>\n",
       "      <td>male</td>\n",
       "      <td>33.770</td>\n",
       "      <td>1</td>\n",
       "      <td>no</td>\n",
       "      <td>southeast</td>\n",
       "      <td>1725.55230</td>\n",
       "    </tr>\n",
       "    <tr>\n",
       "      <th>2</th>\n",
       "      <td>28</td>\n",
       "      <td>male</td>\n",
       "      <td>33.000</td>\n",
       "      <td>3</td>\n",
       "      <td>no</td>\n",
       "      <td>southeast</td>\n",
       "      <td>4449.46200</td>\n",
       "    </tr>\n",
       "    <tr>\n",
       "      <th>3</th>\n",
       "      <td>33</td>\n",
       "      <td>male</td>\n",
       "      <td>22.705</td>\n",
       "      <td>0</td>\n",
       "      <td>no</td>\n",
       "      <td>northwest</td>\n",
       "      <td>21984.47061</td>\n",
       "    </tr>\n",
       "    <tr>\n",
       "      <th>4</th>\n",
       "      <td>32</td>\n",
       "      <td>male</td>\n",
       "      <td>28.880</td>\n",
       "      <td>0</td>\n",
       "      <td>no</td>\n",
       "      <td>northwest</td>\n",
       "      <td>3866.85520</td>\n",
       "    </tr>\n",
       "  </tbody>\n",
       "</table>\n",
       "</div>"
      ],
      "text/plain": [
       "   age     sex     bmi  children smoker     region      charges\n",
       "0   19  female  27.900         0    yes  southwest  16884.92400\n",
       "1   18    male  33.770         1     no  southeast   1725.55230\n",
       "2   28    male  33.000         3     no  southeast   4449.46200\n",
       "3   33    male  22.705         0     no  northwest  21984.47061\n",
       "4   32    male  28.880         0     no  northwest   3866.85520"
      ]
     },
     "execution_count": 67,
     "metadata": {},
     "output_type": "execute_result"
    }
   ],
   "source": [
    "df = pd.read_csv('insurance.csv')\n",
    "df.head()"
   ]
  },
  {
   "cell_type": "code",
   "execution_count": 68,
   "metadata": {},
   "outputs": [
    {
     "data": {
      "text/html": [
       "<div>\n",
       "<style scoped>\n",
       "    .dataframe tbody tr th:only-of-type {\n",
       "        vertical-align: middle;\n",
       "    }\n",
       "\n",
       "    .dataframe tbody tr th {\n",
       "        vertical-align: top;\n",
       "    }\n",
       "\n",
       "    .dataframe thead th {\n",
       "        text-align: right;\n",
       "    }\n",
       "</style>\n",
       "<table border=\"1\" class=\"dataframe\">\n",
       "  <thead>\n",
       "    <tr style=\"text-align: right;\">\n",
       "      <th></th>\n",
       "      <th>age</th>\n",
       "      <th>bmi</th>\n",
       "      <th>children</th>\n",
       "      <th>charges</th>\n",
       "    </tr>\n",
       "  </thead>\n",
       "  <tbody>\n",
       "    <tr>\n",
       "      <th>count</th>\n",
       "      <td>1338.000000</td>\n",
       "      <td>1338.000000</td>\n",
       "      <td>1338.000000</td>\n",
       "      <td>1338.000000</td>\n",
       "    </tr>\n",
       "    <tr>\n",
       "      <th>mean</th>\n",
       "      <td>39.207025</td>\n",
       "      <td>30.663397</td>\n",
       "      <td>1.094918</td>\n",
       "      <td>13270.422265</td>\n",
       "    </tr>\n",
       "    <tr>\n",
       "      <th>std</th>\n",
       "      <td>14.049960</td>\n",
       "      <td>6.098187</td>\n",
       "      <td>1.205493</td>\n",
       "      <td>12110.011237</td>\n",
       "    </tr>\n",
       "    <tr>\n",
       "      <th>min</th>\n",
       "      <td>18.000000</td>\n",
       "      <td>15.960000</td>\n",
       "      <td>0.000000</td>\n",
       "      <td>1121.873900</td>\n",
       "    </tr>\n",
       "    <tr>\n",
       "      <th>25%</th>\n",
       "      <td>27.000000</td>\n",
       "      <td>26.296250</td>\n",
       "      <td>0.000000</td>\n",
       "      <td>4740.287150</td>\n",
       "    </tr>\n",
       "    <tr>\n",
       "      <th>50%</th>\n",
       "      <td>39.000000</td>\n",
       "      <td>30.400000</td>\n",
       "      <td>1.000000</td>\n",
       "      <td>9382.033000</td>\n",
       "    </tr>\n",
       "    <tr>\n",
       "      <th>75%</th>\n",
       "      <td>51.000000</td>\n",
       "      <td>34.693750</td>\n",
       "      <td>2.000000</td>\n",
       "      <td>16639.912515</td>\n",
       "    </tr>\n",
       "    <tr>\n",
       "      <th>max</th>\n",
       "      <td>64.000000</td>\n",
       "      <td>53.130000</td>\n",
       "      <td>5.000000</td>\n",
       "      <td>63770.428010</td>\n",
       "    </tr>\n",
       "  </tbody>\n",
       "</table>\n",
       "</div>"
      ],
      "text/plain": [
       "               age          bmi     children       charges\n",
       "count  1338.000000  1338.000000  1338.000000   1338.000000\n",
       "mean     39.207025    30.663397     1.094918  13270.422265\n",
       "std      14.049960     6.098187     1.205493  12110.011237\n",
       "min      18.000000    15.960000     0.000000   1121.873900\n",
       "25%      27.000000    26.296250     0.000000   4740.287150\n",
       "50%      39.000000    30.400000     1.000000   9382.033000\n",
       "75%      51.000000    34.693750     2.000000  16639.912515\n",
       "max      64.000000    53.130000     5.000000  63770.428010"
      ]
     },
     "execution_count": 68,
     "metadata": {},
     "output_type": "execute_result"
    }
   ],
   "source": [
    "df.describe()"
   ]
  },
  {
   "cell_type": "code",
   "execution_count": 69,
   "metadata": {},
   "outputs": [
    {
     "name": "stdout",
     "output_type": "stream",
     "text": [
      "age         0.0\n",
      "sex         0.0\n",
      "bmi         0.0\n",
      "children    0.0\n",
      "smoker      0.0\n",
      "region      0.0\n",
      "charges     0.0\n",
      "dtype: float64\n"
     ]
    }
   ],
   "source": [
    "# Memastikan tidak ada missing values yang dapat membuat bias pada output analisa.\n",
    "\n",
    "percent_missing = df.isnull().sum() * 100 / len(df)\n",
    "missing_value_df = pd.DataFrame({'column_name': df.columns,\n",
    "                                 'percent_missing': percent_missing})\n",
    "print(percent_missing)"
   ]
  },
  {
   "cell_type": "markdown",
   "metadata": {},
   "source": [
    "# Langkah 1"
   ]
  },
  {
   "cell_type": "code",
   "execution_count": 70,
   "metadata": {},
   "outputs": [
    {
     "data": {
      "text/plain": [
       "39.21"
      ]
     },
     "execution_count": 70,
     "metadata": {},
     "output_type": "execute_result"
    }
   ],
   "source": [
    "# Mencari tau rata-rata umur pada data (soal nomor 3).\n",
    "\n",
    "avg_age = df[\"age\"].mean()\n",
    "round(avg_age, 2)"
   ]
  },
  {
   "cell_type": "code",
   "execution_count": 71,
   "metadata": {},
   "outputs": [
    {
     "data": {
      "text/plain": [
       "38.51"
      ]
     },
     "execution_count": 71,
     "metadata": {},
     "output_type": "execute_result"
    }
   ],
   "source": [
    "# Mencari tau rata-rata umur perokok.\n",
    "\n",
    "smoker_avg_age = df.loc[df['smoker'] == 'yes', 'age'].mean()\n",
    "round(smoker_avg_age, 2)"
   ]
  },
  {
   "cell_type": "code",
   "execution_count": 72,
   "metadata": {},
   "outputs": [
    {
     "data": {
      "text/plain": [
       "30.71"
      ]
     },
     "execution_count": 72,
     "metadata": {},
     "output_type": "execute_result"
    }
   ],
   "source": [
    "# Rata-rata BMI perokok.\n",
    "\n",
    "smoker_avg_bmi = df.loc[df['smoker'] == 'yes', 'bmi'].mean()\n",
    "round(smoker_avg_bmi, 2)"
   ]
  },
  {
   "cell_type": "code",
   "execution_count": 73,
   "metadata": {},
   "outputs": [
    {
     "name": "stdout",
     "output_type": "stream",
     "text": [
      "133207311.20634925\n"
     ]
    }
   ],
   "source": [
    "# Perbandingan variansi data charges perokok dan non-perokok.\n",
    "\n",
    "# Variansi data tagihan kesehatan perokok.\n",
    "\n",
    "import statistics\n",
    "\n",
    "variance_charges_smoker = statistics.variance(df.loc[df['smoker'] == 'yes', 'charges'])\n",
    "print(variance_charges_smoker)"
   ]
  },
  {
   "cell_type": "code",
   "execution_count": 74,
   "metadata": {},
   "outputs": [
    {
     "data": {
      "text/plain": [
       "35925420.5"
      ]
     },
     "execution_count": 74,
     "metadata": {},
     "output_type": "execute_result"
    }
   ],
   "source": [
    "# Variansi data tagihan kesehatan non-perokok.\n",
    "\n",
    "import statistics\n",
    "\n",
    "variance_charges_nonsmoker = statistics.variance(df.loc[df['smoker'] == 'no', 'charges'])\n",
    "round(variance_charges_nonsmoker, 2)"
   ]
  },
  {
   "cell_type": "code",
   "execution_count": 75,
   "metadata": {},
   "outputs": [
    {
     "data": {
      "text/plain": [
       "38.51"
      ]
     },
     "execution_count": 75,
     "metadata": {},
     "output_type": "execute_result"
    }
   ],
   "source": [
    "# Rata-rata umur perokok\n",
    "\n",
    "avg_age_smoker = df.loc[df['smoker'] == 'yes', 'age'].mean()\n",
    "round(avg_age_smoker, 2)"
   ]
  },
  {
   "cell_type": "code",
   "execution_count": 76,
   "metadata": {},
   "outputs": [
    {
     "data": {
      "text/plain": [
       "39.39"
      ]
     },
     "execution_count": 76,
     "metadata": {},
     "output_type": "execute_result"
    }
   ],
   "source": [
    "# Rata-rata umur non-perokok.\n",
    "\n",
    "avg_age_nonsmoker = df.loc[df['smoker'] == 'no', 'age'].mean()\n",
    "round(avg_age_nonsmoker, 2)\n"
   ]
  },
  {
   "cell_type": "code",
   "execution_count": 77,
   "metadata": {},
   "outputs": [
    {
     "data": {
      "text/plain": [
       "32050.23"
      ]
     },
     "execution_count": 77,
     "metadata": {},
     "output_type": "execute_result"
    }
   ],
   "source": [
    "# Rata-rata tagihan kesehatan perokok.\n",
    "\n",
    "avg_charges_smoker = df.loc[df['smoker'] == 'yes', 'charges'].mean()\n",
    "round(avg_charges_smoker, 2)"
   ]
  },
  {
   "cell_type": "code",
   "execution_count": 78,
   "metadata": {},
   "outputs": [
    {
     "data": {
      "text/plain": [
       "8434.27"
      ]
     },
     "execution_count": 78,
     "metadata": {},
     "output_type": "execute_result"
    }
   ],
   "source": [
    "# Rata-rata tagihan kesehatan non-perokok\n",
    "\n",
    "avg_charges_nonsmoker = df.loc[df['smoker'] == 'no', 'charges'].mean()\n",
    "round(avg_charges_nonsmoker, 2)"
   ]
  },
  {
   "cell_type": "code",
   "execution_count": 79,
   "metadata": {},
   "outputs": [
    {
     "data": {
      "text/plain": [
       "13946.48"
      ]
     },
     "execution_count": 79,
     "metadata": {},
     "output_type": "execute_result"
    }
   ],
   "source": [
    "# Rata-rata tagihan kesehatan berdasarkan BMI 25 keatas.\n",
    "\n",
    "avg_charges_bmi_25more = df.loc[df['bmi'] > 25, 'charges'].mean()\n",
    "round(avg_charges_bmi_25more, 2)"
   ]
  },
  {
   "cell_type": "code",
   "execution_count": 80,
   "metadata": {},
   "outputs": [
    {
     "data": {
      "text/plain": [
       "10282.22"
      ]
     },
     "execution_count": 80,
     "metadata": {},
     "output_type": "execute_result"
    }
   ],
   "source": [
    "# Rata-rata tagihan kesehatan berdasarkan BMI 25 kebawah.\n",
    "\n",
    "avg_charges_bmi_25less = df.loc[df['bmi'] < 25, 'charges'].mean()\n",
    "round(avg_charges_bmi_25less, 2)"
   ]
  },
  {
   "cell_type": "code",
   "execution_count": 81,
   "metadata": {},
   "outputs": [
    {
     "data": {
      "text/plain": [
       "30.94"
      ]
     },
     "execution_count": 81,
     "metadata": {},
     "output_type": "execute_result"
    }
   ],
   "source": [
    "# Rata-rata BMI berdasarkan sex.\n",
    "\n",
    "# Rata-rata BMI laki-laki.\n",
    "\n",
    "bmi_avg_male = df.loc[df['sex'] == 'male', 'bmi'].mean()\n",
    "round(bmi_avg_male, 2)"
   ]
  },
  {
   "cell_type": "code",
   "execution_count": 82,
   "metadata": {},
   "outputs": [
    {
     "data": {
      "text/plain": [
       "30.38"
      ]
     },
     "execution_count": 82,
     "metadata": {},
     "output_type": "execute_result"
    }
   ],
   "source": [
    "# Rata-rata BMI perempuan.\n",
    "\n",
    "bmi_avg_female = df.loc[df['sex'] == 'female', 'bmi'].mean()\n",
    "round(bmi_avg_female, 2)"
   ]
  },
  {
   "cell_type": "code",
   "execution_count": 83,
   "metadata": {},
   "outputs": [
    {
     "data": {
      "text/plain": [
       "30.71"
      ]
     },
     "execution_count": 83,
     "metadata": {},
     "output_type": "execute_result"
    }
   ],
   "source": [
    "# Rata-rata BMI antara perokok dan non-perokok.\n",
    "\n",
    "# Rata-rata BMI perokok.\n",
    "\n",
    "avg_bmi_smoker = df.loc[df['smoker'] == 'yes', 'bmi'].mean()\n",
    "round(avg_bmi_smoker, 2)"
   ]
  },
  {
   "cell_type": "code",
   "execution_count": 84,
   "metadata": {},
   "outputs": [
    {
     "data": {
      "text/plain": [
       "30.65"
      ]
     },
     "execution_count": 84,
     "metadata": {},
     "output_type": "execute_result"
    }
   ],
   "source": [
    "# Rata-rata BMI non-perokok.\n",
    "\n",
    "avg_bmi_nonsmoker = df.loc[df['smoker'] == 'no', 'bmi'].mean()\n",
    "round(avg_bmi_nonsmoker, 2)"
   ]
  },
  {
   "cell_type": "markdown",
   "metadata": {},
   "source": [
    "# Langkah 2"
   ]
  },
  {
   "cell_type": "code",
   "execution_count": 85,
   "metadata": {},
   "outputs": [
    {
     "data": {
      "image/png": "[encoded data removed]",
      "text/plain": [
       "<Figure size 640x480 with 1 Axes>"
      ]
     },
     "metadata": {},
     "output_type": "display_data"
    }
   ],
   "source": [
    "# Perbandingan rata-rata seluruh tagihan berdasarkan jenis kelamin.\n",
    "\n",
    "avg_charges_male = df.loc[df['sex'] == 'male', 'charges'].mean()\n",
    "avg_charges_female = df.loc[df['sex'] == 'female', 'charges'].mean()\n",
    "\n",
    "objects = ('female', 'male')\n",
    "y_pos = np.arange(len(objects))\n",
    "performance = [avg_charges_female, avg_charges_male]\n",
    "\n",
    "plt.bar(y_pos, performance, align='center', alpha=0.5)\n",
    "plt.xticks(y_pos, objects)\n",
    "plt.ylabel('charges')\n",
    "plt.title('rata-rata tagihan berdasarkan jenis kelamin')\n",
    "\n",
    "plt.show()"
   ]
  },
  {
   "cell_type": "code",
   "execution_count": 86,
   "metadata": {},
   "outputs": [
    {
     "data": {
      "text/plain": [
       "southeast    364\n",
       "southwest    325\n",
       "northwest    325\n",
       "northeast    324\n",
       "Name: region, dtype: int64"
      ]
     },
     "execution_count": 86,
     "metadata": {},
     "output_type": "execute_result"
    }
   ],
   "source": [
    "# Mencari tau ada wilayah apa saja dan jumlah data dari tiap wilayah tersebut.\n",
    "\n",
    "pd.value_counts(df.region)"
   ]
  },
  {
   "cell_type": "code",
   "execution_count": 87,
   "metadata": {},
   "outputs": [
    {
     "name": "stdout",
     "output_type": "stream",
     "text": [
      "╒════════════╤═══════════════════╕\n",
      "│ wilayah    │   peluang tagihan │\n",
      "╞════════════╪═══════════════════╡\n",
      "│ South East │          0.272048 │\n",
      "├────────────┼───────────────────┤\n",
      "│ South West │          0.2429   │\n",
      "├────────────┼───────────────────┤\n",
      "│ North West │          0.2429   │\n",
      "├────────────┼───────────────────┤\n",
      "│ North East │          0.242152 │\n",
      "╘════════════╧═══════════════════╛\n"
     ]
    }
   ],
   "source": [
    "# Distribusi peluang tagihan di tiap provinsi.\n",
    "\n",
    "from tabulate import tabulate\n",
    "\n",
    "n_wilayah = 1338\n",
    "n_se = 364\n",
    "n_sw = 325\n",
    "n_nw = 325\n",
    "n_ne = 324\n",
    "\n",
    "prob_se = n_se/n_wilayah\n",
    "prob_sw = n_sw/n_wilayah\n",
    "prob_nw = n_nw/n_wilayah\n",
    "prob_ne = n_ne/n_wilayah\n",
    "\n",
    "table = [['wilayah', 'peluang tagihan'],\n",
    "        ['South East', prob_se],\n",
    "        ['South West', prob_sw],\n",
    "        ['North West', prob_nw],\n",
    "        ['North East', prob_ne]]\n",
    "        \n",
    "print(tabulate(table, headers='firstrow', tablefmt='fancy_grid'))"
   ]
  },
  {
   "cell_type": "code",
   "execution_count": 88,
   "metadata": {},
   "outputs": [
    {
     "data": {
      "text/plain": [
       "<AxesSubplot: xlabel='region', ylabel='count'>"
      ]
     },
     "execution_count": 88,
     "metadata": {},
     "output_type": "execute_result"
    },
    {
     "data": {
      "image/png": "[encoded data removed]",
      "text/plain": [
       "<Figure size 640x480 with 1 Axes>"
      ]
     },
     "metadata": {},
     "output_type": "display_data"
    }
   ],
   "source": [
    "# Proporsi data pada tiap wilayah\n",
    "\n",
    "sns.set(style=\"whitegrid\", color_codes=True)\n",
    "sns.countplot(x=df[\"region\"])"
   ]
  },
  {
   "cell_type": "code",
   "execution_count": 89,
   "metadata": {},
   "outputs": [
    {
     "data": {
      "text/plain": [
       "<AxesSubplot: xlabel='smoker', ylabel='count'>"
      ]
     },
     "execution_count": 89,
     "metadata": {},
     "output_type": "execute_result"
    },
    {
     "data": {
      "image/png": "[encoded data removed]",
      "text/plain": [
       "<Figure size 640x480 with 1 Axes>"
      ]
     },
     "metadata": {},
     "output_type": "display_data"
    }
   ],
   "source": [
    "# Proporsi data perokok dan non-perokok\n",
    "\n",
    "sns.set_theme(style=\"whitegrid\")\n",
    "sns.countplot(x=df[\"smoker\"])"
   ]
  },
  {
   "cell_type": "code",
   "execution_count": 90,
   "metadata": {},
   "outputs": [],
   "source": [
    "# Jumlah perokok berdasarkan jenis kelamin\n",
    "\n",
    "fem_smoker = len(df[(df['smoker']=='yes') & (df['sex']=='female')])\n",
    "man_smoker = len(df[(df['smoker']=='yes') & (df['sex']=='male')])"
   ]
  },
  {
   "cell_type": "code",
   "execution_count": 91,
   "metadata": {},
   "outputs": [
    {
     "data": {
      "text/plain": [
       "0.086"
      ]
     },
     "execution_count": 91,
     "metadata": {},
     "output_type": "execute_result"
    }
   ],
   "source": [
    "# Peluang user memiliki jenis kelamin perempuan jika diketahui user tersebut perokok\n",
    "\n",
    "n_smoker = len(df['smoker']=='yes')\n",
    "\n",
    "p_fem_if_smoker = fem_smoker/n_smoker\n",
    "round(p_fem_if_smoker, 3)\n"
   ]
  },
  {
   "cell_type": "code",
   "execution_count": 92,
   "metadata": {},
   "outputs": [
    {
     "data": {
      "text/plain": [
       "0.119"
      ]
     },
     "execution_count": 92,
     "metadata": {},
     "output_type": "execute_result"
    }
   ],
   "source": [
    "# Peluang user memiliki jenis kelamin laki-laki jika diketahui user tersebut perokok\n",
    "\n",
    "p_man_if_smoker = man_smoker/n_smoker\n",
    "round(p_man_if_smoker, 3)"
   ]
  },
  {
   "cell_type": "markdown",
   "metadata": {},
   "source": [
    "# Langkah 3"
   ]
  },
  {
   "cell_type": "code",
   "execution_count": 93,
   "metadata": {},
   "outputs": [
    {
     "data": {
      "text/plain": [
       "0.85"
      ]
     },
     "execution_count": 93,
     "metadata": {},
     "output_type": "execute_result"
    }
   ],
   "source": [
    "# Seseorang dengan BMI di atas 25 mendapatkan tagihan kesehatan di atas 16.7k\n",
    "\n",
    "tagihan_banyak = df[df[\"charges\"] > 16700].count()['charges']\n",
    "kriteria_a = (df[\"bmi\"] >25) & (df[\"charges\"] > 16700) \n",
    "bmi_above = df[kriteria_a].count()['bmi']\n",
    "\n",
    "p_above = bmi_above/tagihan_banyak\n",
    "round(p_above, 2)"
   ]
  },
  {
   "cell_type": "code",
   "execution_count": 94,
   "metadata": {},
   "outputs": [
    {
     "data": {
      "text/plain": [
       "0.85"
      ]
     },
     "execution_count": 94,
     "metadata": {},
     "output_type": "execute_result"
    }
   ],
   "source": [
    "# Seseorang dengan BMI di bawah 25 mendapatkan tagihan kesehatan di atas 16.7k\n",
    "\n",
    "kriteria_b = (df[\"bmi\"] < 25) & (df[\"charges\"] > 16700) \n",
    "bmi_below = df[kriteria_b].count()['bmi']\n",
    "\n",
    "p_below = bmi_below/tagihan_banyak\n",
    "round(p_above, 2)"
   ]
  },
  {
   "cell_type": "markdown",
   "metadata": {},
   "source": [
    "# Langkah 4\n"
   ]
  },
  {
   "cell_type": "code",
   "execution_count": 95,
   "metadata": {},
   "outputs": [
    {
     "data": {
      "text/html": [
       "<div>\n",
       "<style scoped>\n",
       "    .dataframe tbody tr th:only-of-type {\n",
       "        vertical-align: middle;\n",
       "    }\n",
       "\n",
       "    .dataframe tbody tr th {\n",
       "        vertical-align: top;\n",
       "    }\n",
       "\n",
       "    .dataframe thead th {\n",
       "        text-align: right;\n",
       "    }\n",
       "</style>\n",
       "<table border=\"1\" class=\"dataframe\">\n",
       "  <thead>\n",
       "    <tr style=\"text-align: right;\">\n",
       "      <th></th>\n",
       "      <th>age</th>\n",
       "      <th>bmi</th>\n",
       "      <th>children</th>\n",
       "      <th>charges</th>\n",
       "    </tr>\n",
       "  </thead>\n",
       "  <tbody>\n",
       "    <tr>\n",
       "      <th>age</th>\n",
       "      <td>1.000000</td>\n",
       "      <td>0.109272</td>\n",
       "      <td>0.042469</td>\n",
       "      <td>0.299008</td>\n",
       "    </tr>\n",
       "    <tr>\n",
       "      <th>bmi</th>\n",
       "      <td>0.109272</td>\n",
       "      <td>1.000000</td>\n",
       "      <td>0.012759</td>\n",
       "      <td>0.198341</td>\n",
       "    </tr>\n",
       "    <tr>\n",
       "      <th>children</th>\n",
       "      <td>0.042469</td>\n",
       "      <td>0.012759</td>\n",
       "      <td>1.000000</td>\n",
       "      <td>0.067998</td>\n",
       "    </tr>\n",
       "    <tr>\n",
       "      <th>charges</th>\n",
       "      <td>0.299008</td>\n",
       "      <td>0.198341</td>\n",
       "      <td>0.067998</td>\n",
       "      <td>1.000000</td>\n",
       "    </tr>\n",
       "  </tbody>\n",
       "</table>\n",
       "</div>"
      ],
      "text/plain": [
       "               age       bmi  children   charges\n",
       "age       1.000000  0.109272  0.042469  0.299008\n",
       "bmi       0.109272  1.000000  0.012759  0.198341\n",
       "children  0.042469  0.012759  1.000000  0.067998\n",
       "charges   0.299008  0.198341  0.067998  1.000000"
      ]
     },
     "execution_count": 95,
     "metadata": {},
     "output_type": "execute_result"
    }
   ],
   "source": [
    "# Korelasi antar variabel dalam data\n",
    "\n",
    "df = pd.read_csv(\"insurance.csv\")\n",
    "df.corr(method = 'pearson')"
   ]
  },
  {
   "cell_type": "code",
   "execution_count": 96,
   "metadata": {},
   "outputs": [
    {
     "data": {
      "text/html": [
       "<div>\n",
       "<style scoped>\n",
       "    .dataframe tbody tr th:only-of-type {\n",
       "        vertical-align: middle;\n",
       "    }\n",
       "\n",
       "    .dataframe tbody tr th {\n",
       "        vertical-align: top;\n",
       "    }\n",
       "\n",
       "    .dataframe thead th {\n",
       "        text-align: right;\n",
       "    }\n",
       "</style>\n",
       "<table border=\"1\" class=\"dataframe\">\n",
       "  <thead>\n",
       "    <tr style=\"text-align: right;\">\n",
       "      <th></th>\n",
       "      <th>charges</th>\n",
       "      <th>bmi</th>\n",
       "    </tr>\n",
       "  </thead>\n",
       "  <tbody>\n",
       "    <tr>\n",
       "      <th>charges</th>\n",
       "      <td>1.000000</td>\n",
       "      <td>0.198341</td>\n",
       "    </tr>\n",
       "    <tr>\n",
       "      <th>bmi</th>\n",
       "      <td>0.198341</td>\n",
       "      <td>1.000000</td>\n",
       "    </tr>\n",
       "  </tbody>\n",
       "</table>\n",
       "</div>"
      ],
      "text/plain": [
       "          charges       bmi\n",
       "charges  1.000000  0.198341\n",
       "bmi      0.198341  1.000000"
      ]
     },
     "execution_count": 96,
     "metadata": {},
     "output_type": "execute_result"
    }
   ],
   "source": [
    "# Mencari korelasi rokok dengan BMI\n",
    "\n",
    "df[['charges', 'bmi']].corr()"
   ]
  },
  {
   "cell_type": "code",
   "execution_count": 97,
   "metadata": {},
   "outputs": [
    {
     "data": {
      "text/html": [
       "<div>\n",
       "<style scoped>\n",
       "    .dataframe tbody tr th:only-of-type {\n",
       "        vertical-align: middle;\n",
       "    }\n",
       "\n",
       "    .dataframe tbody tr th {\n",
       "        vertical-align: top;\n",
       "    }\n",
       "\n",
       "    .dataframe thead th {\n",
       "        text-align: right;\n",
       "    }\n",
       "</style>\n",
       "<table border=\"1\" class=\"dataframe\">\n",
       "  <thead>\n",
       "    <tr style=\"text-align: right;\">\n",
       "      <th></th>\n",
       "      <th>charges</th>\n",
       "      <th>age</th>\n",
       "    </tr>\n",
       "  </thead>\n",
       "  <tbody>\n",
       "    <tr>\n",
       "      <th>charges</th>\n",
       "      <td>1.000000</td>\n",
       "      <td>0.299008</td>\n",
       "    </tr>\n",
       "    <tr>\n",
       "      <th>age</th>\n",
       "      <td>0.299008</td>\n",
       "      <td>1.000000</td>\n",
       "    </tr>\n",
       "  </tbody>\n",
       "</table>\n",
       "</div>"
      ],
      "text/plain": [
       "          charges       age\n",
       "charges  1.000000  0.299008\n",
       "age      0.299008  1.000000"
      ]
     },
     "execution_count": 97,
     "metadata": {},
     "output_type": "execute_result"
    }
   ],
   "source": [
    "# Mencari korelasi rokok dengan umur\n",
    "\n",
    "df[['charges', 'age']].corr()"
   ]
  },
  {
   "cell_type": "markdown",
   "metadata": {},
   "source": [
    "# Langkah 5"
   ]
  },
  {
   "cell_type": "code",
   "execution_count": 121,
   "metadata": {},
   "outputs": [
    {
     "name": "stdout",
     "output_type": "stream",
     "text": [
      "Dari program di atas hasil uji statistik adalah :  25.67936453595571\n"
     ]
    }
   ],
   "source": [
    "# Hipotesis testing tagihan kesehatan perokok lebih tinggi daripada tagihan kesehatan non perokok (Ho)\n",
    "\n",
    "import numpy as np\n",
    "from statsmodels.stats.proportion import proportions_ztest\n",
    "import math\n",
    "\n",
    "\n",
    "m0 = df['charges'].mean()\n",
    "xbar = df.loc[df['smoker'] == 'yes', 'charges'].mean()\n",
    "std = df.charges.std(ddof=0)\n",
    "n_sample = df[df[\"smoker\"] == 'yes'].count()['smoker']\n",
    "\n",
    "\n",
    "test_stat=(xbar-m0)/std*(math.sqrt(n_sample))\n",
    "print(\"Dari program di atas hasil uji statistik adalah : \", test_stat)\n"
   ]
  },
  {
   "cell_type": "code",
   "execution_count": 122,
   "metadata": {},
   "outputs": [
    {
     "name": "stdout",
     "output_type": "stream",
     "text": [
      "1.6448536269514722\n"
     ]
    }
   ],
   "source": [
    "import scipy.stats as stats\n",
    "z_crit=stats.norm.ppf(1-0.05)  # right-tailed test\n",
    "print(z_crit)"
   ]
  },
  {
   "cell_type": "code",
   "execution_count": 123,
   "metadata": {},
   "outputs": [
    {
     "name": "stdout",
     "output_type": "stream",
     "text": [
      "Dengan nilai uji statistik 25.67936453595571  dan nilai z_crit 1.6448536269514722\n"
     ]
    }
   ],
   "source": [
    "print(\"Dengan nilai uji statistik\", test_stat,\" dan nilai z_crit\", stats.norm.ppf(1-0.05))"
   ]
  },
  {
   "cell_type": "code",
   "execution_count": 126,
   "metadata": {},
   "outputs": [
    {
     "name": "stdout",
     "output_type": "stream",
     "text": [
      "Terima hypothesis 0 yang menyatakan tagihan kesehatan perokok lebih dari tagihan kesehatan non-perokok\n"
     ]
    }
   ],
   "source": [
    "# H0: tagihan kesetan perokok > tagihan kesehatan non perokok\n",
    "\n",
    "if test_stat > z_crit:\n",
    "    print(\"Terima hypothesis 0 yang menyatakan tagihan kesehatan perokok lebih dari tagihan kesehatan non-perokok\")\n",
    "else:\n",
    "    print(\"Tolak hypothesis 0 yang menyatakan tagihan kesehatan perokok lebih dari tagihan kesehatan non-perokok\")"
   ]
  },
  {
   "cell_type": "code",
   "execution_count": 127,
   "metadata": {},
   "outputs": [],
   "source": [
    "# Variansi tagihan kesehatan perokok dan non perokok sama (H0: var_1 = var_2)\n",
    "\n",
    "# Memasukan nilai-nilai parameter\n",
    "\n",
    "import statistics \n",
    "\n",
    "n_1 = df[df[\"smoker\"] == 'yes'].count()['smoker']\n",
    "n_2 = df[df[\"smoker\"] == 'no'].count()['smoker']\n",
    "dfree_1 = n_1 - 1\n",
    "dfree_2 = n_2 - 1\n",
    "\n",
    "rataan_1 = df.loc[df['smoker'] == 'yes', 'charges'].mean()\n",
    "rataan_2 = df.loc[df['smoker'] == 'no', 'charges'].mean()\n",
    "\n",
    "std_1 = df.loc[df['smoker'] == 'yes', 'charges'].std(ddof=0)\n",
    "std_2 = df.loc[df['smoker'] == 'no', 'charges'].std(ddof=0)\n",
    "\n",
    "var_1 = statistics.variance(df.loc[df['smoker'] == 'yes', 'charges'])\n",
    "var_2 = statistics.variance(df.loc[df['smoker'] == 'no', 'charges'])"
   ]
  },
  {
   "cell_type": "code",
   "execution_count": 128,
   "metadata": {},
   "outputs": [
    {
     "name": "stdout",
     "output_type": "stream",
     "text": [
      "Dari program di atas hasil uji statistik adalah :  3.707884538770159\n"
     ]
    }
   ],
   "source": [
    "# Menentukan uji statistik\n",
    "\n",
    "f_test = var_1/var_2\n",
    "print(\"Dari program di atas hasil uji statistik adalah : \", f_test)"
   ]
  },
  {
   "cell_type": "code",
   "execution_count": 129,
   "metadata": {},
   "outputs": [
    {
     "name": "stdout",
     "output_type": "stream",
     "text": [
      "1.1662297531965873\n"
     ]
    }
   ],
   "source": [
    "# Nilai Critical Value berdasarkan critical f-value dari f-table dengan nilai alpha 0.05\n",
    "\n",
    "import scipy.stats as stats\n",
    "\n",
    "f_crit=stats.f.ppf(1 - 0.05, dfree_1, dfree_2)\n",
    "print(f_crit)"
   ]
  },
  {
   "cell_type": "code",
   "execution_count": 130,
   "metadata": {},
   "outputs": [
    {
     "name": "stdout",
     "output_type": "stream",
     "text": [
      "Dengan nilai uji statistik 3.707884538770159  dan nilai f_crit 1.1662297531965873\n"
     ]
    }
   ],
   "source": [
    "# Nilai Critical Value berdasarkan critical f-value dari f-table dengan nilai alpha 0.05\n",
    "import scipy.stats as stats\n",
    "print(\"Dengan nilai uji statistik\", f_test,\" dan nilai f_crit\", stats.f.ppf(1 - 0.05, dfree_1, dfree_2) )"
   ]
  },
  {
   "cell_type": "code",
   "execution_count": 132,
   "metadata": {},
   "outputs": [
    {
     "name": "stdout",
     "output_type": "stream",
     "text": [
      "Tolak null hypothesis yang menyatakan variansi tagihan kesehatan perokok dan non perokok sama\n"
     ]
    }
   ],
   "source": [
    "# Keputusan\n",
    "\n",
    "if f_test > f_crit:\n",
    "  print(\"Tolak null hypothesis yang menyatakan variansi tagihan kesehatan perokok dan non perokok sama\")\n",
    "else:\n",
    "  print(\"Terima null hypothesis yang menyatakan variansi tagihan kesehatan perokok dan non perokok sama\")"
   ]
  },
  {
   "cell_type": "code",
   "execution_count": 109,
   "metadata": {},
   "outputs": [
    {
     "name": "stdout",
     "output_type": "stream",
     "text": [
      "Dari program di atas hasil uji statistik adalah :  1.3767426831578993\n"
     ]
    }
   ],
   "source": [
    "# Tagihan kesehatan laki-laki lebih besar dari perempuan (H0)\n",
    "\n",
    "import numpy as np\n",
    "from statsmodels.stats.proportion import proportions_ztest\n",
    "import math\n",
    "\n",
    "\n",
    "m0 = df['charges'].mean()\n",
    "xbar = df.loc[df['sex'] == 'male', 'charges'].mean()\n",
    "std = df.loc[df['sex'] == 'male', 'charges'].std(ddof=0)\n",
    "n_sample = df[df[\"sex\"] == 'male'].count()['sex']\n",
    "\n",
    "\n",
    "test_stat=(xbar-m0)/std*(math.sqrt(n_sample))\n",
    "print(\"Dari program di atas hasil uji statistik adalah : \", test_stat)"
   ]
  },
  {
   "cell_type": "code",
   "execution_count": 114,
   "metadata": {},
   "outputs": [
    {
     "name": "stdout",
     "output_type": "stream",
     "text": [
      "1.6448536269514722\n"
     ]
    }
   ],
   "source": [
    "# Right tailed test\n",
    "\n",
    "import scipy.stats as stats\n",
    "\n",
    "z_crit=stats.norm.ppf(1-0.05)\n",
    "print(z_crit)"
   ]
  },
  {
   "cell_type": "code",
   "execution_count": 112,
   "metadata": {},
   "outputs": [
    {
     "name": "stdout",
     "output_type": "stream",
     "text": [
      "Dengan nilai uji statistik 1.3767426831578993  dan nilai z_crit 1.6448536269514722\n"
     ]
    }
   ],
   "source": [
    "print(\"Dengan nilai uji statistik\", test_stat,\" dan nilai z_crit\", stats.norm.ppf(1-0.05))"
   ]
  },
  {
   "cell_type": "code",
   "execution_count": 133,
   "metadata": {},
   "outputs": [
    {
     "name": "stdout",
     "output_type": "stream",
     "text": [
      "Terima null hypothesis yang menyatakan tagihan kesehatan laki-laki lebih besar dari perempuan\n"
     ]
    }
   ],
   "source": [
    "# Pengambilan keputusan\n",
    "\n",
    "if test_stat > z_crit:\n",
    "    print(\"Terima null hypothesis yang menyatakan tagihan kesehatan laki-laki lebih besar dari perempuan\")\n",
    "else:\n",
    "    print(\"Tolak null hypothesis yang menyatakan tagihan kesehatan laki-laki lebih besar dari perempuan\")"
   ]
  }
 ],
 "metadata": {
  "kernelspec": {
   "display_name": "Python 3.11.0 64-bit",
   "language": "python",
   "name": "python3"
  },
  "language_info": {
   "codemirror_mode": {
    "name": "ipython",
    "version": 3
   },
   "file_extension": ".py",
   "mimetype": "text/x-python",
   "name": "python",
   "nbconvert_exporter": "python",
   "pygments_lexer": "ipython3",
   "version": "3.11.0"
  },
  "orig_nbformat": 4,
  "vscode": {
   "interpreter": {
    "hash": "5238573367df39f7286bb46f9ff5f08f63a01a80960060ce41e3c79b190280fa"
   }
  }
 },
 "nbformat": 4,
 "nbformat_minor": 2
}
